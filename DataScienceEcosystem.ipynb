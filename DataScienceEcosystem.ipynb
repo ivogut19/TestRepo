{
 "cells": [
  {
   "cell_type": "markdown",
   "id": "c54bedbf",
   "metadata": {},
   "source": [
    "# Data Science Tools and Ecosystem"
   ]
  },
  {
   "cell_type": "markdown",
   "id": "9173a5d2",
   "metadata": {},
   "source": [
    "In this notebook, Data Science Tools and Ecosystem are summarized."
   ]
  },
  {
   "cell_type": "markdown",
   "id": "0a02f3a7",
   "metadata": {},
   "source": [
    "**Objectives**\n",
    "- Learn popular languages for Data Scientists\n",
    "- Know Commonly used libraries used by Data Scientists\n",
    "- List of Data Science Tools\n",
    "- Introducing arithmetic expressions in Python\n",
    "- Multipy and add numbersin Python"
   ]
  },
  {
   "cell_type": "markdown",
   "id": "c2061267",
   "metadata": {},
   "source": [
    "Some of the popular languages that Data Scientists use are:\n",
    "1. Python\n",
    "2. R\n",
    "3. Julia"
   ]
  },
  {
   "cell_type": "markdown",
   "id": "826fb593",
   "metadata": {},
   "source": [
    "Some of the commonly used libraries used by Data Scientists include:\n",
    "1. Pandas\n",
    "2. NumPy\n",
    "3. SciPy\n",
    "4. Matplotlib"
   ]
  },
  {
   "cell_type": "markdown",
   "id": "ba6a90c3",
   "metadata": {},
   "source": [
    "| Data Science Tools|\n",
    "-----------------------------\n",
    "|Jupyter Notebook |\n",
    "|RStudio          |\n",
    "|Apache Spark     |\n"
   ]
  },
  {
   "cell_type": "markdown",
   "id": "dc0122be",
   "metadata": {},
   "source": [
    "### Below are a few examples of evaluating arithmetic expressions in Python"
   ]
  },
  {
   "cell_type": "code",
   "execution_count": 2,
   "id": "0f6a3a07",
   "metadata": {},
   "outputs": [
    {
     "data": {
      "text/plain": [
       "17"
      ]
     },
     "execution_count": 2,
     "metadata": {},
     "output_type": "execute_result"
    }
   ],
   "source": [
    "# This a simple arithmetic expression to mutiply then add integers\n",
    "(3*4)+5"
   ]
  },
  {
   "cell_type": "code",
   "execution_count": 5,
   "id": "2573382d",
   "metadata": {},
   "outputs": [
    {
     "data": {
      "text/plain": [
       "3.3333333333333335"
      ]
     },
     "execution_count": 5,
     "metadata": {},
     "output_type": "execute_result"
    }
   ],
   "source": [
    "# This will convert 200 minutes to hours by diving by 60\n",
    "200 / 60"
   ]
  },
  {
   "cell_type": "markdown",
   "id": "27a9cbd6",
   "metadata": {},
   "source": [
    "## Author\n",
    "Ivonne Gutierrez"
   ]
  },
  {
   "cell_type": "code",
   "execution_count": null,
   "id": "cfa1a979",
   "metadata": {},
   "outputs": [],
   "source": []
  }
 ],
 "metadata": {
  "kernelspec": {
   "display_name": "Python 3 (ipykernel)",
   "language": "python",
   "name": "python3"
  },
  "language_info": {
   "codemirror_mode": {
    "name": "ipython",
    "version": 3
   },
   "file_extension": ".py",
   "mimetype": "text/x-python",
   "name": "python",
   "nbconvert_exporter": "python",
   "pygments_lexer": "ipython3",
   "version": "3.11.5"
  }
 },
 "nbformat": 4,
 "nbformat_minor": 5
}
